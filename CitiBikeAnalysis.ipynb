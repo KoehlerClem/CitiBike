{
 "cells": [
  {
   "cell_type": "markdown",
   "id": "9cbf101a-4247-48d9-b573-97c7f47baf5f",
   "metadata": {},
   "source": [
    "# Citi Bike Data Analysis - Insurance Coverage and Distance Buckets\n",
    "\n",
    "## Introduction\n",
    "This notebook analyzes NYC Citi Bike trip data for January 2025. The goal is to:\n",
    "- Determine how many trips exceed 30 minutes and would be covered by insurance.\n",
    "- Calculate expected revenue from charging $0.20 per ride over 30 minutes.\n",
    "- Analyze trip distances and visualize them in distance buckets.\n",
    "\n",
    "## Data Preparation\n",
    "\n",
    "- Read CSV files with schema inference  \n",
    "- Select `started_at`, `ended_at`, `start_lat`, `start_lng`, `end_lat`, `end_lng` columns\n",
    "- Cast timestamps and coordinates to proper types  \n",
    "- Drop rows with missing values  \n",
    "- Print schema and dropped row count  "
   ]
  },
  {
   "cell_type": "code",
   "execution_count": null,
   "id": "4b2b4fea-4530-400e-a076-6c306e1f156a",
   "metadata": {},
   "outputs": [],
   "source": [
    "from pyspark.sql import SparkSession\n",
    "from pyspark.sql.functions import col\n",
    "from pyspark.sql.types import DoubleType, TimestampType\n",
    "from pyspark.sql.functions import col, when, radians, sin, cos, asin, sqrt\n",
    "from geopy import distance\n",
    "import matplotlib.pyplot as plt\n",
    "import matplotlib.ticker as ticker\n",
    "import pandas as pd\n",
    "\n",
    "# Initialize Spark session\n",
    "spark = SparkSession.builder.appName(\"CitiBikeAnalysis\").config(\"spark.ui.showConsoleProgress\", \"false\").getOrCreate()\n",
    "\n",
    "# Read CSV files with automatic schema inference\n",
    "df = spark.read.option(\"header\", \"true\").option(\"inferSchema\", \"true\").csv(\"202501-citibike-tripdata/*.csv\")\n",
    "\n",
    "# Print schema to inspect column names and types\n",
    "df.printSchema()\n",
    "\n",
    "# Select only the necessary columns, casting types where needed\n",
    "df = df.select(\n",
    "    col(\"started_at\").cast(TimestampType()),\n",
    "    col(\"ended_at\").cast(TimestampType()),\n",
    "    col(\"start_lat\").cast(DoubleType()),\n",
    "    col(\"start_lng\").cast(DoubleType()),\n",
    "    col(\"end_lat\").cast(DoubleType()),\n",
    "    col(\"end_lng\").cast(DoubleType())\n",
    ")\n",
    "\n",
    "count_rows = df.count()\n",
    "# Drop rows where any of the required columns contain NaN values\n",
    "df = df.na.drop()\n",
    "\n",
    "# Print row count after cleaning\n",
    "print(f\"Dropped {count_rows-df.count()} rows with N/A values\")\n",
    "\n",
    "df.printSchema()"
   ]
  },
  {
   "cell_type": "markdown",
   "id": "f4375624-2a34-4175-a444-5aa18093838e",
   "metadata": {},
   "source": [
    "## Trip Duration Calculation and Filtering Long Trips\n",
    "\n",
    "We calculate trip duration by converting start and end timestamps to seconds and computing the difference.  \n",
    "Trips longer than **30 minutes** (1800 seconds) are filtered and counted.\n"
   ]
  },
  {
   "cell_type": "code",
   "execution_count": null,
   "id": "52d691f5-8db4-4580-82d1-40ffdeaee311",
   "metadata": {},
   "outputs": [],
   "source": [
    "# Subtract timestamps and cast the result to long (seconds)\n",
    "df = df.withColumn(\"tripduration\", (col(\"ended_at\") - col(\"started_at\")).cast(\"long\"))\n",
    "\n",
    "# Filter trips longer than 30 minutes (30*60 = 1800 seconds)\n",
    "long_trips = df.filter(col(\"tripduration\") > 1800)\n",
    "num_trips = long_trips.count()\n",
    "print(\"Trips longer than 30 min:\", num_trips)"
   ]
  },
  {
   "cell_type": "markdown",
   "id": "5bed0d59-5f5c-4e49-84cd-581a706f76d7",
   "metadata": {},
   "source": [
    "## Insurance Coverage and Revenue Estimation\n",
    "\n",
    "The expected revenue is calculated by multiplying the number of long trips by **$0.20 per ride**.\n"
   ]
  },
  {
   "cell_type": "code",
   "execution_count": null,
   "id": "73a4bfdf-96ca-49a6-a38d-c5b2d90c96fd",
   "metadata": {},
   "outputs": [],
   "source": [
    "expected_revenue = num_trips * 0.2\n",
    "print(f\"Expected revenue: ${expected_revenue:.2f}\")"
   ]
  },
  {
   "cell_type": "markdown",
   "id": "e08c00ae-e5c0-45f1-8866-94d714f9fc0a",
   "metadata": {},
   "source": [
    "## Travel Distance Calculation using the Haversine Formula\n",
    "\n",
    "The **Haversine formula** is used to calculate the great-circle distance between the trip's start and end locations.  \n",
    "We assume the Earth's radius to be **3959 miles** for distance in miles (or **6371 km** for kilometers).  \n",
    "\n",
    "The Haversine formula is:\n",
    "\n",
    "$$\n",
    "d = 2R \\cdot \\arcsin \\left( \\sqrt{\\sin^2 \\left( \\frac{\\Delta \\varphi}{2} \\right) + \\cos(\\varphi_1) \\cdot \\cos(\\varphi_2) \\cdot \\sin^2 \\left( \\frac{\\Delta \\lambda}{2} \\right) } \\right)\n",
    "$$\n",
    "\n",
    "Where:\n",
    "- $R$ is the Earth's radius (miles or kilometers).\n",
    "- $\\varphi_1, \\varphi_2$ are the latitudes of the start and end locations in radians.\n",
    "- $\\lambda_1, \\lambda_2$ are the longitudes of the start and end locations in radians.\n",
    "- $\\Delta \\varphi = \\varphi_2 - \\varphi_1$ (difference in latitude).\n",
    "- $\\Delta \\lambda = \\lambda_2 - \\lambda_1$ (difference in longitude).\n",
    "\n",
    "Source: https://scikit-learn.org/stable/modules/generated/sklearn.metrics.pairwise.haversine_distances.html\n",
    "\n",
    "An optional test compares the calculated distances with values from the `geopy` library to verify accuracy.\n"
   ]
  },
  {
   "cell_type": "code",
   "execution_count": null,
   "id": "822d031f-fe79-4d16-8a41-2c69ef6fbd81",
   "metadata": {},
   "outputs": [],
   "source": [
    "# Compute travel distance using the Haversine formula\n",
    "R = 3959  # Earth's radius in miles, for distance in Kilometers use 6371\n",
    "df = df.withColumn(\n",
    "    \"distance\",\n",
    "    R * 2 * asin(\n",
    "        sqrt(\n",
    "            sin((radians(col(\"end_lat\")) - radians(col(\"start_lat\"))) / 2) ** 2 +\n",
    "            cos(radians(col(\"start_lat\"))) * cos(radians(col(\"end_lat\"))) *\n",
    "            sin((radians(col(\"end_lng\")) - radians(col(\"start_lng\"))) / 2) ** 2\n",
    "        )\n",
    "    )\n",
    ")\n",
    "# Testing the calculated distance values against a library\n",
    "testing = False\n",
    "if testing:\n",
    "    # Get the first 20 rows with necessary coordinates and the calculated distance\n",
    "    sample_rows = df.select(\"start_lat\", \"start_lng\", \"end_lat\", \"end_lng\", \"distance\").limit(20).collect()\n",
    "    \n",
    "    for row in sample_rows:\n",
    "        geopy_dist = distance.distance((row.start_lat, row.start_lng), (row.end_lat, row.end_lng)).miles\n",
    "        print(f\"Calculated: {row.distance:.2f} miles, Geopy: {geopy_dist:.2f} miles, Difference: {row.distance-geopy_dist:.6f} miles or {(row.distance-geopy_dist)/geopy_dist*100:.2f}%\")"
   ]
  },
  {
   "cell_type": "markdown",
   "id": "1524c62b-8ffc-46cf-9ae4-e1e0aa6ba257",
   "metadata": {},
   "source": [
    "## Categorizing Trips into Distance Buckets\n",
    "\n",
    "- Group trips into **0-1**, **2-4**, **4-9**, and **10+ mile** buckets.  \n",
    "- Count the number of trips in each bucket using **Spark aggregation**.  \n",
    "- Convert results to **Pandas** for visualization.  \n"
   ]
  },
  {
   "cell_type": "code",
   "execution_count": null,
   "id": "07a41a5a-09ff-42a7-b7d2-38341897abb7",
   "metadata": {},
   "outputs": [],
   "source": [
    "# Aggregate distance buckets\n",
    "bucket_counts = df.groupBy(\n",
    "    when(col(\"distance\") <= 1, \"0-1\")\n",
    "    .when((col(\"distance\") > 1) & (col(\"distance\") <= 4), \"2-4\")\n",
    "    .when((col(\"distance\") > 4) & (col(\"distance\") <= 9), \"4-9\")\n",
    "    .otherwise(\"10+\")\n",
    "    .alias(\"distance_bucket\")\n",
    ").count()\n",
    "\n",
    "# Convert Spark DataFrame to Pandas for visualization\n",
    "bucket_pd = bucket_counts.toPandas()\n",
    "bucket_pd"
   ]
  },
  {
   "cell_type": "markdown",
   "id": "cc0ccfb6-2db6-45f1-b004-bc0c047704d6",
   "metadata": {},
   "source": [
    "## Visualizing Trip Distance Distribution\n",
    "\n",
    "- Sort distance buckets in the order: **0-1, 2-4, 4-9, 10+ miles**.  \n",
    "- Create a **bar chart** to display trip counts per bucket.  \n",
    "- Format the y-axis to show values in **thousands (K)**.  \n",
    "- Annotate each bar with the number of trips.  \n",
    "\n",
    "This visualization highlights how trip distances are distributed across the bike-sharing system.  \n"
   ]
  },
  {
   "cell_type": "code",
   "execution_count": null,
   "id": "ae1b1c17-f54f-4cc4-9225-8342c3fc29a4",
   "metadata": {},
   "outputs": [],
   "source": [
    "# Define the desired bucket order\n",
    "bucket_order = [\"0-1\", \"2-4\", \"4-9\", \"10+\"]\n",
    "bucket_pd['distance_bucket'] = pd.Categorical(bucket_pd['distance_bucket'], categories=bucket_order, ordered=True)\n",
    "bucket_pd = bucket_pd.sort_values(\"distance_bucket\")\n",
    "\n",
    "plt.figure(figsize=(8, 6))\n",
    "bars = plt.bar(bucket_pd['distance_bucket'], bucket_pd['count'], color='cornflowerblue')\n",
    "plt.xlabel('Distance Bucket (miles)')\n",
    "plt.ylabel('Number of Trips (in thousands)')\n",
    "plt.title('Number of Trips per Distance Bucket')\n",
    "\n",
    "ax = plt.gca()\n",
    "ax.yaxis.set_major_formatter(ticker.FuncFormatter(lambda x, pos: f'{x/1000:.1f}'))\n",
    "\n",
    "for bar, count in zip(bars, bucket_pd['count']):\n",
    "    ax.text(bar.get_x() + bar.get_width()/2, bar.get_height(), f'{count/1000:.1f}K', ha='center', va='bottom')\n",
    "\n",
    "plt.show()\n"
   ]
  },
  {
   "cell_type": "code",
   "execution_count": null,
   "id": "0cbce3b5-c55d-4cc6-aafb-d7b5577acff7",
   "metadata": {},
   "outputs": [],
   "source": [
    "spark.stop()"
   ]
  }
 ],
 "metadata": {
  "kernelspec": {
   "display_name": "Python 3 (ipykernel)",
   "language": "python",
   "name": "python3"
  },
  "language_info": {
   "codemirror_mode": {
    "name": "ipython",
    "version": 3
   },
   "file_extension": ".py",
   "mimetype": "text/x-python",
   "name": "python",
   "nbconvert_exporter": "python",
   "pygments_lexer": "ipython3",
   "version": "3.11.11"
  }
 },
 "nbformat": 4,
 "nbformat_minor": 5
}
